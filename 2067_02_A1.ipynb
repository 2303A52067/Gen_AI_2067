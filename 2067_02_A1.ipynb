{
  "nbformat": 4,
  "nbformat_minor": 0,
  "metadata": {
    "colab": {
      "provenance": [],
      "authorship_tag": "ABX9TyP1aYqIRFsNa6lRt0v8rgBH",
      "include_colab_link": true
    },
    "kernelspec": {
      "name": "python3",
      "display_name": "Python 3"
    },
    "language_info": {
      "name": "python"
    }
  },
  "cells": [
    {
      "cell_type": "markdown",
      "metadata": {
        "id": "view-in-github",
        "colab_type": "text"
      },
      "source": [
        "<a href=\"https://colab.research.google.com/github/2303A52067/Gen_AI_2067/blob/main/2067_02_A1.ipynb\" target=\"_parent\"><img src=\"https://colab.research.google.com/assets/colab-badge.svg\" alt=\"Open In Colab\"/></a>"
      ]
    },
    {
      "cell_type": "code",
      "execution_count": 10,
      "metadata": {
        "id": "bnPzH0IYgy7H"
      },
      "outputs": [],
      "source": [
        "from scipy.optimize import linprog"
      ]
    },
    {
      "cell_type": "code",
      "source": [
        "c = [-2000, -50]\n",
        "A = [[7000, 120], [10, 30]]\n",
        "b = [700000, 1200]"
      ],
      "metadata": {
        "id": "64NFIzFVg0sZ"
      },
      "execution_count": 4,
      "outputs": []
    },
    {
      "cell_type": "code",
      "source": [
        "x0_bounds = (0, None)  # Wheat acreage >= 0\n",
        "x1_bounds = (0, None)  # Barley acreage >= 0"
      ],
      "metadata": {
        "id": "HL1VmEtRhFDz"
      },
      "execution_count": 5,
      "outputs": []
    },
    {
      "cell_type": "code",
      "source": [
        "result = linprog(c, A_ub=A, b_ub=b, bounds=[x0_bounds, x1_bounds], method='highs')"
      ],
      "metadata": {
        "id": "MUxtr8sDhLnf"
      },
      "execution_count": 6,
      "outputs": []
    },
    {
      "cell_type": "code",
      "source": [
        "wheat_area, barley_area = result.x"
      ],
      "metadata": {
        "id": "dJtpCRKRhPgv"
      },
      "execution_count": 7,
      "outputs": []
    },
    {
      "cell_type": "code",
      "source": [
        "print(f'Optimal Solution:')\n",
        "print(f'Wheat acreage: {wheat_area:.2f} hectares')\n",
        "print(f'Barley acreage: {barley_area:.2f} hectares')\n",
        "print(f'Optimal Value (Maximum Profit): Rs {-result.fun:.2f}')"
      ],
      "metadata": {
        "colab": {
          "base_uri": "https://localhost:8080/"
        },
        "id": "4vwomPlihSDg",
        "outputId": "039a61ba-1287-4185-970b-4c1179ee719f"
      },
      "execution_count": 8,
      "outputs": [
        {
          "output_type": "stream",
          "name": "stdout",
          "text": [
            "Optimal Solution:\n",
            "Wheat acreage: 99.89 hectares\n",
            "Barley acreage: 6.70 hectares\n",
            "Optimal Value (Maximum Profit): Rs 200105.36\n"
          ]
        }
      ]
    },
    {
      "cell_type": "code",
      "source": [],
      "metadata": {
        "id": "CirD2EDchXRa"
      },
      "execution_count": null,
      "outputs": []
    }
  ]
}