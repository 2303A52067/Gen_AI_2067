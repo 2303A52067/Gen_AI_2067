{
  "nbformat": 4,
  "nbformat_minor": 0,
  "metadata": {
    "colab": {
      "provenance": [],
      "authorship_tag": "ABX9TyNFN4t4OTcwL9v3wA5GXKch",
      "include_colab_link": true
    },
    "kernelspec": {
      "name": "python3",
      "display_name": "Python 3"
    },
    "language_info": {
      "name": "python"
    }
  },
  "cells": [
    {
      "cell_type": "markdown",
      "metadata": {
        "id": "view-in-github",
        "colab_type": "text"
      },
      "source": [
        "<a href=\"https://colab.research.google.com/github/2303A52067/Gen_AI_2067/blob/main/2067_03_03.ipynb\" target=\"_parent\"><img src=\"https://colab.research.google.com/assets/colab-badge.svg\" alt=\"Open In Colab\"/></a>"
      ]
    },
    {
      "cell_type": "markdown",
      "source": [
        "Question 1"
      ],
      "metadata": {
        "id": "OqCm2jKfWdx-"
      }
    },
    {
      "cell_type": "code",
      "execution_count": 1,
      "metadata": {
        "id": "c0NjyBWxU5li"
      },
      "outputs": [],
      "source": [
        "def f(x):\n",
        "    return 5 * x**4 + 3 * x**2 + 10\n",
        "\n",
        "def f_prime(x):\n",
        "    return 20 * x**3 + 6 * x"
      ]
    },
    {
      "cell_type": "code",
      "source": [
        "def gradient_descent(learning_rate=0.01, tolerance=1e-6, max_iterations=1000):\n",
        "    x = 0.0\n",
        "    iteration = 0\n",
        "\n",
        "    while iteration < max_iterations:\n",
        "        grad = f_prime(x)\n",
        "        new_x = x - learning_rate * grad\n",
        "        if abs(new_x - x) < tolerance:\n",
        "            break\n",
        "\n",
        "        x = new_x\n",
        "        iteration += 1\n",
        "\n",
        "    return x"
      ],
      "metadata": {
        "id": "OUP2sgsMWS6v"
      },
      "execution_count": 7,
      "outputs": []
    },
    {
      "cell_type": "code",
      "source": [
        "min_x = gradient_descent(learning_rate=0.01)\n",
        "print(\"The value of x at the minimum is:\", min_x)"
      ],
      "metadata": {
        "colab": {
          "base_uri": "https://localhost:8080/"
        },
        "id": "Ho6N_Z9TVlWe",
        "outputId": "52516b13-77d9-4ddc-daad-110d377b0ba4"
      },
      "execution_count": 8,
      "outputs": [
        {
          "output_type": "stream",
          "name": "stdout",
          "text": [
            "The value of x at the minimum is: 0.0\n"
          ]
        }
      ]
    },
    {
      "cell_type": "markdown",
      "source": [
        "Question 2"
      ],
      "metadata": {
        "id": "P2AIMc7QWnXm"
      }
    },
    {
      "cell_type": "code",
      "source": [
        "import math\n",
        "\n",
        "# Define the function g(x, y) and its partial derivatives\n",
        "def g(x, y):\n",
        "    return 3 * x**2 + 5 * math.exp(-y) + 10\n",
        "\n",
        "def g_prime_x(x):\n",
        "    return 6 * x\n",
        "\n",
        "def g_prime_y(y):\n",
        "    return -5 * math.exp(-y)\n"
      ],
      "metadata": {
        "colab": {
          "base_uri": "https://localhost:8080/"
        },
        "id": "oXI8vgZbVvDJ",
        "outputId": "28666c48-0666-4bf6-e94b-998da7068be8"
      },
      "execution_count": 9,
      "outputs": [
        {
          "output_type": "stream",
          "name": "stdout",
          "text": [
            "The values of x and y at the minimum are: 0.0 3.9337602416246904\n"
          ]
        }
      ]
    },
    {
      "cell_type": "code",
      "source": [
        "def gradient_descent(learning_rate=0.01, tolerance=1e-6, max_iterations=1000):\n",
        "    x = 0.0\n",
        "    y = 0.0\n",
        "    iteration = 0\n",
        "\n",
        "    while iteration < max_iterations:\n",
        "        grad_x = g_prime_x(x)\n",
        "        grad_y = g_prime_y(y)\n",
        "\n",
        "        new_x = x - learning_rate * grad_x\n",
        "        new_y = y - learning_rate * grad_y\n",
        "\n",
        "        if abs(new_x - x) < tolerance and abs(new_y - y) < tolerance:\n",
        "            break\n",
        "\n",
        "        x, y = new_x, new_y\n",
        "        iteration += 1\n",
        "\n",
        "    return x, y"
      ],
      "metadata": {
        "id": "OllvtCMuXyyW"
      },
      "execution_count": 11,
      "outputs": []
    },
    {
      "cell_type": "code",
      "source": [
        "min_x, min_y = gradient_descent(learning_rate=0.01)\n",
        "print(\"The values of x and y at the minimum are:\", min_x, min_y)\n"
      ],
      "metadata": {
        "colab": {
          "base_uri": "https://localhost:8080/"
        },
        "id": "18DGcHpUW3bs",
        "outputId": "493173b0-7be3-4b33-dabe-d545c98197d9"
      },
      "execution_count": 10,
      "outputs": [
        {
          "output_type": "stream",
          "name": "stdout",
          "text": [
            "The values of x and y at the minimum are: 0.0 3.9337602416246904\n"
          ]
        }
      ]
    },
    {
      "cell_type": "markdown",
      "source": [
        "Question 3"
      ],
      "metadata": {
        "id": "iZwlCoeuX7-b"
      }
    },
    {
      "cell_type": "code",
      "source": [
        "import math"
      ],
      "metadata": {
        "id": "1kSarraOW9hb"
      },
      "execution_count": 12,
      "outputs": []
    },
    {
      "cell_type": "code",
      "source": [
        "def g(x, y):\n",
        "    return 3 * x**2 + 5 * math.exp(-y) + 10\n",
        "\n",
        "def g_prime_x(x):\n",
        "    return 6 * x\n",
        "\n",
        "def g_prime_y(y):\n",
        "    return -5 * math.exp(-y)"
      ],
      "metadata": {
        "id": "fFGBdJMzZAMc"
      },
      "execution_count": 13,
      "outputs": []
    },
    {
      "cell_type": "code",
      "source": [
        "def gradient_descent(learning_rate=0.01, tolerance=1e-6, max_iterations=1000):\n",
        "    # Initialize x and y (starting points)\n",
        "    x = 0.0\n",
        "    y = 0.0\n",
        "    iteration = 0\n",
        "\n",
        "    while iteration < max_iterations:\n",
        "        grad_x = g_prime_x(x)  # Compute the gradient with respect to x\n",
        "        grad_y = g_prime_y(y)  # Compute the gradient with respect to y\n",
        "\n",
        "        new_x = x - learning_rate * grad_x  # Update x\n",
        "        new_y = y - learning_rate * grad_y  # Update y\n",
        "\n",
        "        # Check for convergence (if the change in x and y are small enough)\n",
        "        if abs(new_x - x) < tolerance and abs(new_y - y) < tolerance:\n",
        "            break\n",
        "\n",
        "        x, y = new_x, new_y\n",
        "        iteration += 1\n",
        "\n",
        "    return x, y"
      ],
      "metadata": {
        "id": "N2IbxO_8ZFaq"
      },
      "execution_count": 14,
      "outputs": []
    },
    {
      "cell_type": "code",
      "source": [
        "min_x, min_y = gradient_descent(learning_rate=0.01)\n",
        "print(\"The values of x and y at the minimum are:\", min_x, min_y)"
      ],
      "metadata": {
        "colab": {
          "base_uri": "https://localhost:8080/"
        },
        "id": "ARbFGrMhZH7d",
        "outputId": "ec6dee96-0830-41dd-ca00-c365d9512b11"
      },
      "execution_count": 15,
      "outputs": [
        {
          "output_type": "stream",
          "name": "stdout",
          "text": [
            "The values of x and y at the minimum are: 0.0 3.9337602416246904\n"
          ]
        }
      ]
    },
    {
      "cell_type": "markdown",
      "source": [
        "Question 4\n"
      ],
      "metadata": {
        "id": "oTUPJFzCdSJG"
      }
    },
    {
      "cell_type": "code",
      "source": [
        "def compute_se(x, y, M, C):\n",
        "    predicted = M * x + C\n",
        "    return (y - predicted) ** 2"
      ],
      "metadata": {
        "id": "Ji5j3Cn7ZLim"
      },
      "execution_count": 16,
      "outputs": []
    },
    {
      "cell_type": "code",
      "source": [
        "def compute_gradients(x, y, M, C):\n",
        "    # Gradients for M and C\n",
        "    grad_M = -2 * (y - (M * x + C)) * x\n",
        "    grad_C = -2 * (y - (M * x + C))\n",
        "    return grad_M, grad_C"
      ],
      "metadata": {
        "id": "Rjq0P4ubdWZn"
      },
      "execution_count": 17,
      "outputs": []
    },
    {
      "cell_type": "code",
      "source": [
        "def gradient_descent(x_vals, y_vals, learning_rate=0.01, tolerance=1e-6, max_iterations=1000):\n",
        "    pass"
      ],
      "metadata": {
        "id": "_VC-7LFndYcv"
      },
      "execution_count": 19,
      "outputs": []
    },
    {
      "cell_type": "code",
      "source": [
        "def gradient_descent(x_vals, y_vals, learning_rate=0.01, tolerance=1e-6, max_iterations=1000):\n",
        "    M = 0.0 # Initialize M\n",
        "    C = 0.0 # Initialize C\n",
        "    iteration = 0 # Initialize iteration counter\n",
        "\n",
        "    while iteration < max_iterations:\n",
        "        total_grad_M = 0\n",
        "        total_grad_C = 0\n",
        "        total_se = 0\n",
        "        for x, y in zip(x_vals, y_vals):\n",
        "            grad_M, grad_C = compute_gradients(x, y, M, C)\n",
        "            total_grad_M += grad_M\n",
        "            total_grad_C += grad_C\n",
        "            total_se += compute_se(x, y, M, C)\n",
        "\n",
        "        # Update M and C using the average gradients\n",
        "        M = M - (learning_rate * total_grad_M)\n",
        "        C = C - (learning_rate * total_grad_C)\n",
        "\n",
        "        # Check for convergence\n",
        "        if abs(total_grad_M) < tolerance and abs(total_grad_C) < tolerance:\n",
        "            break\n",
        "\n",
        "        iteration += 1\n",
        "\n",
        "    return M, C, total_se # Return M, C, and the total squared error"
      ],
      "metadata": {
        "id": "T6WwH_UKdlsi"
      },
      "execution_count": 21,
      "outputs": []
    },
    {
      "cell_type": "code",
      "source": [
        "x_vals = [1, 2, 3, 4, 5]  # Example x values\n",
        "y_vals = [3, 6, 9, 12, 15]  # Expected y values (linear relationship y = 3x)\n",
        "\n",
        "# Run gradient descent to find optimal M and C\n",
        "optimal_M, optimal_C, final_se = gradient_descent(x_vals, y_vals, learning_rate=0.01)\n",
        "\n",
        "print(f\"The optimal value of M (slope) is: {optimal_M}\")\n",
        "print(f\"The optimal value of C (intercept) is: {optimal_C}\")\n",
        "print(f\"The final Square Error (SE) is: {final_se}\")"
      ],
      "metadata": {
        "colab": {
          "base_uri": "https://localhost:8080/"
        },
        "id": "I0IsBN12dxjk",
        "outputId": "4724cb91-0689-4881-ad4b-6076e233a950"
      },
      "execution_count": 22,
      "outputs": [
        {
          "output_type": "stream",
          "name": "stdout",
          "text": [
            "The optimal value of M (slope) is: 2.9999998391337637\n",
            "The optimal value of C (intercept) is: 5.807781567657736e-07\n",
            "The final Square Error (SE) is: 3.176234396201399e-13\n"
          ]
        }
      ]
    },
    {
      "cell_type": "code",
      "source": [],
      "metadata": {
        "id": "WaD2zXh2d2I5"
      },
      "execution_count": null,
      "outputs": []
    }
  ]
}